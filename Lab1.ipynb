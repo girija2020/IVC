{
 "cells": [
  {
   "cell_type": "code",
   "execution_count": 1,
   "metadata": {
    "id": "bB1aeCzrLbwt"
   },
   "outputs": [],
   "source": [
    "import numpy as np\n",
    "import cv2"
   ]
  },
  {
   "cell_type": "code",
   "execution_count": 2,
   "metadata": {
    "id": "mOOjktjbLbwx"
   },
   "outputs": [],
   "source": [
    "# Load an image from a file\n",
    "image = cv2.imread(\"./boston.jpg\")"
   ]
  },
  {
   "cell_type": "code",
   "execution_count": 3,
   "metadata": {
    "id": "5JB3ezU8Lbwy"
   },
   "outputs": [
    {
     "name": "stdout",
     "output_type": "stream",
     "text": [
      "<class 'numpy.ndarray'>\n"
     ]
    }
   ],
   "source": [
    "print(type(image))"
   ]
  },
  {
   "cell_type": "code",
   "execution_count": 4,
   "metadata": {
    "id": "THSqkgoYLbwy"
   },
   "outputs": [
    {
     "name": "stdout",
     "output_type": "stream",
     "text": [
      "(331, 550, 3)\n"
     ]
    }
   ],
   "source": [
    "# For color images, the decoded images will have the channels stored in B G R order.\n",
    "print(image.shape)"
   ]
  },
  {
   "cell_type": "code",
   "execution_count": 5,
   "metadata": {
    "id": "PeT2Fyk4Lbwy"
   },
   "outputs": [],
   "source": [
    "def tintBlue(image):\n",
    "    \"\"\"\n",
    "        Tint the input image blue\n",
    "\n",
    "        :param image: input color image\n",
    "        :type image: ndarray\n",
    "        :rtype: ndarray\n",
    "    \"\"\"\n",
    "    image[:,:,0] = 255\n",
    "\n",
    "    # TODO: your implementation here\n",
    "\n",
    "    return image"
   ]
  },
  {
   "cell_type": "code",
   "execution_count": 6,
   "metadata": {
    "id": "naul4xqoLbwz"
   },
   "outputs": [],
   "source": [
    "image = tintBlue(image)"
   ]
  },
  {
   "cell_type": "code",
   "execution_count": 11,
   "metadata": {
    "id": "uZDvFsmiLbwz"
   },
   "outputs": [],
   "source": [
    "# Display the image\n",
    "cv2.namedWindow(\"Display window\", cv2.WINDOW_AUTOSIZE)\n",
    "cv2.imshow(\"Display window\", image)\n",
    "# Wait for a key event infinitely\n",
    "# cv2.waitKey(0)\n",
    "# i = 0\n",
    "# while i < 100000000:\n",
    "#     i += 1\n",
    "# Close all open windows\n",
    "# cv2.destroyAllWindows()\n",
    "# For mac users, uncomment the following line\n",
    "# cv2.waitKey(1)"
   ]
  },
  {
   "cell_type": "code",
   "execution_count": 7,
   "metadata": {
    "id": "uVgaBwiILbw0"
   },
   "outputs": [],
   "source": [
    "frame = 0\n",
    "def readVideo(video_path):\n",
    "    \"\"\"\n",
    "        Read the video frames.\n",
    "\n",
    "        :param video_path: path to input video\n",
    "        :type video_path: str\n",
    "        :rtype: ndarray\n",
    "    \"\"\"\n",
    "    num_frames = 0\n",
    "    cap = cv2.VideoCapture(video_path)\n",
    "    num_frames = cap.get(cv2.CAP_PROP_FRAME_COUNT)\n",
    "    video_frames = []\n",
    "    for i in range(int(num_frames)):\n",
    "        cap.set(cv2.CAP_PROP_POS_FRAMES, i)\n",
    "        res, frame = cap.read()\n",
    "        video_frames.append(frame)\n",
    "        \n",
    "    video_frames = np.array(video_frames)\n",
    "    \n",
    "\n",
    "    # TODO: your implementation here - write a function to read video frames and combine them into a numpy array of size 'T x H x W x C'.\n",
    "    # T, H, W and C denote the number of frames, height, width and number of channels, respectively.\n",
    "\n",
    "    # video_frames = NotImplemented\n",
    "    return video_frames\n",
    "\n",
    "    # return video_frames"
   ]
  },
  {
   "cell_type": "code",
   "execution_count": 19,
   "metadata": {
    "id": "qlLlwRVILbw0"
   },
   "outputs": [],
   "source": [
    "# reads a video file\n",
    "video_frames = readVideo(\"./input_video.mp4\")"
   ]
  },
  {
   "cell_type": "code",
   "execution_count": 9,
   "metadata": {},
   "outputs": [
    {
     "name": "stdout",
     "output_type": "stream",
     "text": [
      "(91, 360, 640, 3)\n"
     ]
    }
   ],
   "source": [
    "print(video_frames.shape)"
   ]
  },
  {
   "cell_type": "code",
   "execution_count": 21,
   "metadata": {},
   "outputs": [],
   "source": [
    "import cv2\n",
    "import numpy as np\n",
    "\n",
    "# Define codec and create VideoWriter object\n",
    "fourcc = cv2.VideoWriter_fourcc(*'mp4v')\n",
    "video = cv2.VideoWriter('video.mp4', fourcc, 30, (len(video_frames[0]), len(video_frames[0][0])) ) # 30 FPS, HD resolution\n",
    "\n",
    "# # Generate random frames as dummy data\n",
    "# frames = [np.random.randint(0, 256, (1920, 1080, 3), dtype=np.uint8) for _ in range(150)]\n",
    "\n",
    "for frame in video_frames:\n",
    "    video.write(frame)\n",
    "\n",
    "video.release()\n",
    "cv2.destroyAllWindows()\n"
   ]
  },
  {
   "cell_type": "code",
   "execution_count": 23,
   "metadata": {},
   "outputs": [
    {
     "name": "stdout",
     "output_type": "stream",
     "text": [
      "Error: Cannot open video file\n"
     ]
    },
    {
     "name": "stderr",
     "output_type": "stream",
     "text": [
      "[ WARN:0@1000.194] global ./modules/videoio/src/cap_gstreamer.cpp (2386) handleMessage OpenCV | GStreamer warning: your GStreamer installation is missing a required plugin\n",
      "[ WARN:0@1000.194] global ./modules/videoio/src/cap_gstreamer.cpp (2401) handleMessage OpenCV | GStreamer warning: Embedded video playback halted; module uridecodebin1 reported: Your GStreamer installation is missing a plug-in.\n",
      "[ WARN:0@1000.195] global ./modules/videoio/src/cap_gstreamer.cpp (1356) open OpenCV | GStreamer warning: unable to start pipeline\n",
      "[ WARN:0@1000.195] global ./modules/videoio/src/cap_gstreamer.cpp (862) isPipelinePlaying OpenCV | GStreamer warning: GStreamer: pipeline have not been created\n"
     ]
    }
   ],
   "source": [
    "import cv2\n",
    "\n",
    "cap = cv2.VideoCapture('video.mp4')\n",
    "if not cap.isOpened():\n",
    "    print(\"Error: Cannot open video file\")\n",
    "else:\n",
    "    print(\"Video file opened successfully\")\n",
    "\n",
    "while cap.isOpened():\n",
    "    ret, frame = cap.read()\n",
    "    if not ret:\n",
    "        print(\"End of video\")\n",
    "        break\n",
    "    cv2.imshow('Frame', frame)\n",
    "    if cv2.waitKey(1000) & 0xFF == ord('q'):  # 1 FPS, wait 1000 ms\n",
    "        break\n",
    "\n",
    "cap.release()\n",
    "cv2.destroyAllWindows()\n"
   ]
  },
  {
   "cell_type": "code",
   "execution_count": null,
   "metadata": {},
   "outputs": [],
   "source": []
  }
 ],
 "metadata": {
  "colab": {
   "provenance": []
  },
  "kernelspec": {
   "display_name": "Python 3",
   "language": "python",
   "name": "python3"
  },
  "language_info": {
   "codemirror_mode": {
    "name": "ipython",
    "version": 3
   },
   "file_extension": ".py",
   "mimetype": "text/x-python",
   "name": "python",
   "nbconvert_exporter": "python",
   "pygments_lexer": "ipython3",
   "version": "3.12.3"
  }
 },
 "nbformat": 4,
 "nbformat_minor": 0
}
